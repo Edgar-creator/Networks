{
 "cells": [
  {
   "cell_type": "code",
   "execution_count": 21,
   "metadata": {},
   "outputs": [],
   "source": [
    "import numpy as np\n",
    "import matplotlib.pyplot as plt\n",
    "import tensorflow as tf\n",
    "from tensorflow import keras\n",
    "import pandas as pd\n",
    "\n"
   ]
  },
  {
   "cell_type": "code",
   "execution_count": 22,
   "metadata": {},
   "outputs": [],
   "source": [
    "from keras.datasets import mnist"
   ]
  },
  {
   "cell_type": "code",
   "execution_count": 23,
   "metadata": {},
   "outputs": [],
   "source": [
    "(train_X, train_y), (test_X, test_y) = mnist.load_data()\n",
    "train_X, test_X = train_X / 255.0, test_X / 255.0"
   ]
  },
  {
   "cell_type": "code",
   "execution_count": 24,
   "metadata": {},
   "outputs": [
    {
     "name": "stdout",
     "output_type": "stream",
     "text": [
      "Model: \"sequential_1\"\n",
      "_________________________________________________________________\n",
      "Layer (type)                 Output Shape              Param #   \n",
      "=================================================================\n",
      "flatten_1 (Flatten)          (None, 784)               0         \n",
      "_________________________________________________________________\n",
      "dense_2 (Dense)              (None, 128)               100480    \n",
      "_________________________________________________________________\n",
      "dense_3 (Dense)              (None, 10)                1290      \n",
      "=================================================================\n",
      "Total params: 101,770\n",
      "Trainable params: 101,770\n",
      "Non-trainable params: 0\n",
      "_________________________________________________________________\n"
     ]
    }
   ],
   "source": [
    "#model = keras.models.Sequential([keras.layers.Flatten(input_shape = (28,28)),\n",
    "                               #keras.layers.Dense(128,activation = 'relu'),\n",
    "                                # keras.layers.Dense(10)])\n",
    "\n",
    "model = keras.models.Sequential()\n",
    "model.add(keras.layers.Flatten(input_shape = (28,28)))\n",
    "model.add(keras.layers.Dense(128,activation = 'relu'))\n",
    "model.add(keras.layers.Dense(10))\n",
    "model.summary()"
   ]
  },
  {
   "cell_type": "code",
   "execution_count": 25,
   "metadata": {},
   "outputs": [
    {
     "name": "stdout",
     "output_type": "stream",
     "text": [
      "Epoch 1/5\n",
      "400/400 [==============================] - 5s 12ms/step - loss: 0.3703 - accuracy: 0.8984\n",
      "Epoch 2/5\n",
      "400/400 [==============================] - 5s 11ms/step - loss: 0.1742 - accuracy: 0.9506\n",
      "Epoch 3/5\n",
      "400/400 [==============================] - 5s 12ms/step - loss: 0.1269 - accuracy: 0.9639\n",
      "Epoch 4/5\n",
      "400/400 [==============================] - 5s 11ms/step - loss: 0.0993 - accuracy: 0.9717\n",
      "Epoch 5/5\n",
      "400/400 [==============================] - 5s 12ms/step - loss: 0.0815 - accuracy: 0.9766\n"
     ]
    },
    {
     "data": {
      "text/plain": [
       "<tensorflow.python.keras.callbacks.History at 0x92adcc75e0>"
      ]
     },
     "execution_count": 25,
     "metadata": {},
     "output_type": "execute_result"
    }
   ],
   "source": [
    "loss = keras.losses.SparseCategoricalCrossentropy(from_logits =True)\n",
    "optim = keras.optimizers.Adam(learning_rate=0.001)\n",
    "metrics = ['accuracy']\n",
    "model.compile(optimizer = optim, loss= loss, metrics=metrics)\n",
    "model.fit(train_X, train_y,batch_size=150,epochs=5 ,shuffle=True)"
   ]
  },
  {
   "cell_type": "code",
   "execution_count": 26,
   "metadata": {},
   "outputs": [],
   "source": [
    "predicted = model.predict(test_X,batch_size=64)"
   ]
  },
  {
   "cell_type": "code",
   "execution_count": 27,
   "metadata": {},
   "outputs": [
    {
     "data": {
      "text/plain": [
       "2"
      ]
     },
     "execution_count": 27,
     "metadata": {},
     "output_type": "execute_result"
    }
   ],
   "source": [
    "pred = [np.argmax(i) for i in  tf.nn.softmax(predicted)]\n",
    "pred[1]"
   ]
  },
  {
   "cell_type": "code",
   "execution_count": 28,
   "metadata": {},
   "outputs": [],
   "source": [
    "class Network:\n",
    "    def __init__(self,input_shape ,layers_size = [128,10],lr = 0.01):\n",
    "        self.layers_size = layers_size\n",
    "        self.input_shape = input_shape\n",
    "        self.lr = lr\n",
    "        self.layers_size.insert(0,self.input_shape[0] * self.input_shape[1])\n",
    "        self.weights = [np.random.normal(size = (self.layers_size[i+1],self.layers_size[i])) for i in range(len(self.layers_size) - 1)]\n",
    "        self.biases = [np.random.normal(size = (self.layers_size[i],1)) for i in range(1,len(self.layers_size))]\n",
    "        \n",
    "        \n",
    "    def summary(self):\n",
    "        print('Model: \"sequential\"')\n",
    "        print('_________________________________________________________________')\n",
    "        print('Layer (type)                 Output Shape              Param #   ')\n",
    "        print('=================================================================')\n",
    "        all_params = 0\n",
    "        for i in range(len(self.layers_size)):\n",
    "            if i == 0:\n",
    "                print(f'flatten (Flatten)            (None, {self.layers_size[i]})               0   ')\n",
    "                print('_________________________________________________________________')\n",
    "            else:\n",
    "                params = (self.layers_size[i-1] + 1) * self.layers_size[i]\n",
    "                all_params += params\n",
    "                if i - 1 == 0:\n",
    "                    print(f'dense (Dense)              (None, {self.layers_size[i]})                {params}      ')\n",
    "                else:\n",
    "                    print(f'dense_{i-1} (Dense)              (None, {self.layers_size[i]})                {params}      ')\n",
    "                print('_________________________________________________________________')\n",
    "        print('=================================================================')\n",
    "        print('Total params:',all_params)\n",
    "        print('Trainable params:',all_params)\n",
    "        print('Non-trainable params: 0')\n",
    "        \n",
    "        \n",
    "    def Relu(self,data):\n",
    "        return np.maximum(data,0)\n",
    "    \n",
    "    def Sigmoid(self,z):\n",
    "        \"\"\"The sigmoid function.\"\"\"\n",
    "        return 1.0/(1.0+np.exp(-z))\n",
    "    \n",
    "    def Softmax(self,data):\n",
    "        a = np.exp(data- np.max(data,axis = 0,keepdims=True))\n",
    "        return a / np.sum(a,axis =0, keepdims=True)\n",
    "           \n",
    "    def deriv_Relu(self,X):\n",
    "        return X > 0\n",
    "    \n",
    "    def deriv_Sigmoid(self,z):\n",
    "        \"\"\"Derivative of the sigmoid function.\"\"\"\n",
    "        return self.Sigmoid(z)*(1-self.Sigmoid(z))\n",
    "    \n",
    "    def one_hot(self,target):\n",
    "        one_hot = np.zeros((target.size,self.layers_size[-1]))\n",
    "        \n",
    "        for i in range(target.size):\n",
    "            one_hot[i][target[i]] = 1\n",
    "        \n",
    "        return one_hot\n",
    "    \n",
    "    def forward(self,X,activ_func = 'Sigmoid'):\n",
    "       \n",
    "        activation = X\n",
    "        self.activations = [X]\n",
    "        self.zs = []\n",
    "        for w,b in zip(self.weights[:-1],self.biases[:-1]):\n",
    "            z = np.dot(w,activation) + b\n",
    "            self.zs.append(z)\n",
    "            if activ_func == 'Sigmoid':\n",
    "                activation = self.Sigmoid(z)\n",
    "            if activ_func == 'Relu':\n",
    "                activation = self.Relu(z) \n",
    "            self.activations.append(activation)\n",
    "        \n",
    "        z = np.dot(self.weights[-1],(self.activations[-1])) + self.biases[-1]\n",
    "        self.zs.append(z)\n",
    "        activation = self.Softmax(z)\n",
    "        self.activations.append(activation)\n",
    "        \n",
    "        return \n",
    "            \n",
    "            \n",
    "    def back_prop(self,target,batch_size):\n",
    "        self.deriv_w = []\n",
    "        self.deriv_b = []\n",
    "        Derivative = self.activations[-1] - target\n",
    "\n",
    "        dW = (1 / batch_size) * Derivative.dot(self.activations[-2].T) \n",
    "        dB = (1 / batch_size) * np.sum(Derivative,axis = 1,keepdims=True)\n",
    "    \n",
    "        self.deriv_w.insert(0,dW)\n",
    "        self.deriv_b.insert(0,dB)\n",
    "        \n",
    "        for A,Z,W in zip(self.activations[::-1][2:],self.zs[::-1][1:],self.weights[::-1]):\n",
    "            if self.activ_func == 'Sigmoid':\n",
    "                Derivative = np.dot(W.T,Derivative) * self.deriv_Sigmoid(Z)\n",
    "            if self.activ_func == 'Relu':\n",
    "                Derivative = np.dot(W.T,Derivative) * self.deriv_Relu(Z)\n",
    "    \n",
    "            dW = (1 / batch_size) * Derivative.dot(A.T) \n",
    "            dB = (1 / batch_size) * np.sum(Derivative,axis = 1,keepdims=True)\n",
    "    \n",
    "            self.deriv_w.insert(0,dW)\n",
    "            self.deriv_b.insert(0,dB)\n",
    "    \n",
    "    \n",
    "    def update_params(self):\n",
    "        for i in range(len(self.weights)):\n",
    "            self.weights[i] -= self.lr * self.deriv_w[i]\n",
    "            self.biases[i] -= self.lr * self.deriv_b[i]\n",
    "        return \n",
    "            \n",
    "            \n",
    "    def train(self,data,target,batch_size = 32,shuffle = True,activ_func = 'Sigmoid',verbose = False, epochs = 45):\n",
    "        self.activ_func = activ_func\n",
    "        Y = self.one_hot(target).T\n",
    "        X = np.array([i.flatten() for i in data]).T\n",
    "        \n",
    "        lst = list(range(X.shape[1])) \n",
    "        for epoch in range(epochs):\n",
    "            if shuffle == True:\n",
    "                np.random.shuffle(lst)\n",
    "\n",
    "            batches = np.array_split(lst,X.shape[1]/batch_size)\n",
    "\n",
    "            for batch in batches:\n",
    "                data1 = X[:,batch]\n",
    "                target1 = Y[:,batch]\n",
    "                self.forward(data1,activ_func = activ_func)\n",
    "                self.back_prop(target1,batch_size)\n",
    "                self.update_params()\n",
    "            \n",
    "            if verbose and (epoch == 0 or epoch / (epochs / 10) >= 1 or epoch == epochs):\n",
    "                pred = self.predict(data)\n",
    "                print(epoch,':accuracy',end = \" \")\n",
    "                print(round(len(pred[pred == target]) / len(target),3))\n",
    "        \n",
    "        return \n",
    "    \n",
    "    def predict(self,data):\n",
    "        if data.shape == self.input_shape:\n",
    "            data = data[np.newaxis,...]\n",
    "        activation = np.array([i.flatten() for i in data]).T \n",
    "        for w,b in zip(self.weights[:-1],self.biases[:-1]):\n",
    "            z = np.dot(w,activation) + b\n",
    "            if self.activ_func == 'Sigmoid':\n",
    "                activation = self.Sigmoid(z)\n",
    "            if self.activ_func == 'Relu':\n",
    "                activation = self.Relu(z) \n",
    "            \n",
    "        z = np.dot(self.weights[-1],activation) + self.biases[-1]\n",
    "        activation = self.Softmax(z)\n",
    "        \n",
    "        return np.argmax(activation,axis=0)\n",
    "    \n",
    "    def accuracy(self,pred,label):\n",
    "        return round(len(pred[pred == label]) / len(label),3)"
   ]
  },
  {
   "cell_type": "code",
   "execution_count": 29,
   "metadata": {},
   "outputs": [
    {
     "name": "stdout",
     "output_type": "stream",
     "text": [
      "Model: \"sequential\"\n",
      "_________________________________________________________________\n",
      "Layer (type)                 Output Shape              Param #   \n",
      "=================================================================\n",
      "flatten (Flatten)            (None, 784)               0   \n",
      "_________________________________________________________________\n",
      "dense (Dense)              (None, 128)                100480      \n",
      "_________________________________________________________________\n",
      "dense_1 (Dense)              (None, 10)                1290      \n",
      "_________________________________________________________________\n",
      "=================================================================\n",
      "Total params: 101770\n",
      "Trainable params: 101770\n",
      "Non-trainable params: 0\n"
     ]
    }
   ],
   "source": [
    "AN = Network(input_shape=(28,28),layers_size=[128,10])\n",
    "AN.summary()\n"
   ]
  },
  {
   "cell_type": "code",
   "execution_count": 30,
   "metadata": {},
   "outputs": [
    {
     "name": "stdout",
     "output_type": "stream",
     "text": [
      "0 :accuracy 0.855\n",
      "1 :accuracy 0.88\n",
      "2 :accuracy 0.89\n",
      "3 :accuracy 0.893\n",
      "4 :accuracy 0.903\n",
      "5 :accuracy 0.906\n",
      "6 :accuracy 0.912\n",
      "7 :accuracy 0.91\n",
      "8 :accuracy 0.919\n",
      "9 :accuracy 0.919\n"
     ]
    }
   ],
   "source": [
    "AN.train(train_X,train_y,activ_func='Relu',verbose = True, epochs  =10, batch_size= 20)"
   ]
  },
  {
   "cell_type": "code",
   "execution_count": 31,
   "metadata": {},
   "outputs": [
    {
     "data": {
      "text/plain": [
       "0.904"
      ]
     },
     "execution_count": 31,
     "metadata": {},
     "output_type": "execute_result"
    }
   ],
   "source": [
    "pred = AN.predict(test_X)\n",
    "AN.accuracy(pred,test_y)"
   ]
  },
  {
   "cell_type": "code",
   "execution_count": 32,
   "metadata": {},
   "outputs": [
    {
     "name": "stdout",
     "output_type": "stream",
     "text": [
      "Prediction 6\n",
      "Label 6\n"
     ]
    },
    {
     "data": {
      "image/png": "[encoded data removed]",
      "text/plain": [
       "<Figure size 432x288 with 1 Axes>"
      ]
     },
     "metadata": {
      "needs_background": "light"
     },
     "output_type": "display_data"
    },
    {
     "name": "stdout",
     "output_type": "stream",
     "text": [
      "Prediction 9\n",
      "Label 9\n"
     ]
    },
    {
     "data": {
      "image/png": "[encoded data removed]",
      "text/plain": [
       "<Figure size 432x288 with 1 Axes>"
      ]
     },
     "metadata": {
      "needs_background": "light"
     },
     "output_type": "display_data"
    },
    {
     "name": "stdout",
     "output_type": "stream",
     "text": [
      "Prediction 5\n",
      "Label 5\n"
     ]
    },
    {
     "data": {
      "image/png": "[encoded data removed]",
      "text/plain": [
       "<Figure size 432x288 with 1 Axes>"
      ]
     },
     "metadata": {
      "needs_background": "light"
     },
     "output_type": "display_data"
    },
    {
     "name": "stdout",
     "output_type": "stream",
     "text": [
      "Prediction 6\n",
      "Label 6\n"
     ]
    },
    {
     "data": {
      "image/png": "[encoded data removed]",
      "text/plain": [
       "<Figure size 432x288 with 1 Axes>"
      ]
     },
     "metadata": {
      "needs_background": "light"
     },
     "output_type": "display_data"
    }
   ],
   "source": [
    "import random\n",
    "for i in range(4):\n",
    "    k = random.choice(range(len(test_X)))\n",
    "    print('Prediction',AN.predict(test_X[k])[0])\n",
    "    print('Label',test_y[k])\n",
    "    plt.imshow(test_X[k],interpolation='nearest',cmap = 'gray')\n",
    "    plt.show()"
   ]
  },
  {
   "cell_type": "code",
   "execution_count": null,
   "metadata": {},
   "outputs": [],
   "source": []
  }
 ],
 "metadata": {
  "kernelspec": {
   "display_name": "Python 3",
   "language": "python",
   "name": "python3"
  },
  "language_info": {
   "codemirror_mode": {
    "name": "ipython",
    "version": 3
   },
   "file_extension": ".py",
   "mimetype": "text/x-python",
   "name": "python",
   "nbconvert_exporter": "python",
   "pygments_lexer": "ipython3",
   "version": "3.8.5"
  }
 },
 "nbformat": 4,
 "nbformat_minor": 4
}
