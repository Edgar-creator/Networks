{
  "nbformat": 4,
  "nbformat_minor": 0,
  "metadata": {
    "kernelspec": {
      "display_name": "Python 3",
      "language": "python",
      "name": "python3"
    },
    "language_info": {
      "codemirror_mode": {
        "name": "ipython",
        "version": 3
      },
      "file_extension": ".py",
      "mimetype": "text/x-python",
      "name": "python",
      "nbconvert_exporter": "python",
      "pygments_lexer": "ipython3",
      "version": "3.8.5"
    },
    "colab": {
      "name": "Assignment3_CNNs.ipynb",
      "provenance": []
    },
    "accelerator": "GPU"
  },
  "cells": [
    {
      "cell_type": "markdown",
      "metadata": {
        "id": "5WNwNfA7vwsV"
      },
      "source": [
        "# Warm up\n",
        "\n",
        "The code below showcases a convolutional network in Keras. It was designed to classify 100x100 rgb images into 10 classes.\n",
        "This network... quite frankly, it sucks. Can you guess what's the problem? Is there just one problem?"
      ]
    },
    {
      "cell_type": "code",
      "metadata": {
        "id": "ZcZAoFLzvwsf"
      },
      "source": [
        "import keras\n",
        "import keras.layers as L\n",
        "import keras.initializers as init"
      ],
      "execution_count": 1,
      "outputs": []
    },
    {
      "cell_type": "code",
      "metadata": {
        "id": "kK7-fuvMvwsg"
      },
      "source": [
        "net = keras.models.Sequential()\n",
        "\n",
        "net.add(L.InputLayer([100, 100, 3]))\n",
        "\n",
        "net.add(L.Conv2D(filters=512, kernel_size=(3, 3), \n",
        "                 kernel_initializer=init.zeros()))\n",
        "net.add(L.Activation('relu'))\n",
        "\n",
        "net.add(L.Conv2D(filters=128, kernel_size=(3, 3), \n",
        "                 kernel_initializer=init.zeros()))\n",
        "net.add(L.Activation('relu'))\n",
        "\n",
        "net.add(L.Conv2D(filters=32, kernel_size=(3, 3), \n",
        "                 kernel_initializer=init.zeros()))\n",
        "net.add(L.Activation('relu'))\n",
        "\n",
        "net.add(L.MaxPool2D(pool_size=(6, 6)))\n",
        "\n",
        "net.add(L.Conv2D(filters=8, kernel_size=(10, 10), \n",
        "                 kernel_initializer=init.RandomNormal(), padding='same'))\n",
        "net.add(L.Activation('relu'))\n",
        "\n",
        "\n",
        "net.add(L.Conv2D(filters=8, kernel_size=(10, 10), \n",
        "                 kernel_initializer=init.RandomNormal(), padding='same'))\n",
        "net.add(L.Activation('relu'))\n",
        "\n",
        "net.add(L.MaxPool2D(pool_size=(3, 3)))\n",
        "\n",
        "net.add(L.Flatten()) # convert 3d tensor to a vector of features\n",
        "\n",
        "net.add(L.Dense(units=512))\n",
        "net.add(L.Activation('softmax'))\n",
        "\n",
        "net.add(L.Dropout(rate=0.5))\n",
        "\n",
        "net.add(L.Dense(units=512))\n",
        "net.add(L.Activation('softmax'))\n",
        "\n",
        "net.add(L.Dense(units=10))\n",
        "net.add(L.Activation('sigmoid'))\n",
        "net.add(L.Dropout(rate=0.5))"
      ],
      "execution_count": 2,
      "outputs": []
    },
    {
      "cell_type": "markdown",
      "metadata": {
        "id": "STIsIxVjvwsh"
      },
      "source": [
        "* [Conv2D](https://keras.io/layers/convolutional/#conv2d) - performs convolution:\n",
        "    * filters: number of output channels;\n",
        "    * kernel_size: an integer or tuple/list of 2 integers, specifying the width and height of the 2D convolution window;\n",
        "    * padding: padding=\"same\" adds zero padding to the input, so that the output has the same width and height, padding='valid' performs convolution only in locations where kernel and the input fully overlap;\n",
        "    * activation: \"relu\", \"tanh\", etc.\n",
        "    * input_shape: shape of input.\n",
        "* [MaxPooling2D](https://keras.io/layers/pooling/#maxpooling2d) - performs 2D max pooling.\n",
        "* [Flatten](https://keras.io/layers/core/#flatten) - flattens the input, does not affect the batch size.\n",
        "* [Dense](https://keras.io/layers/core/#dense) - fully-connected layer.\n",
        "    * Activation - applies an activation function.\n",
        "* [LeakyReLU](https://keras.io/layers/advanced-activations/#leakyrelu) - applies leaky relu activation.\n",
        "* [Dropout](https://keras.io/layers/core/#dropout) - applies dropout."
      ]
    },
    {
      "cell_type": "markdown",
      "metadata": {
        "id": "w0lBtnDpvwsi"
      },
      "source": [
        "## Book of grudges\n",
        "* zero init for weights will cause symmetry effect\n",
        "* Too many filters for first 3x3 convolution - will lead to enormous matrix while there's just not enough relevant combinations of 3x3 images (overkill).\n",
        "* Usually the further you go, the more filters you need.\n",
        "* large filters (10x10 is generally a bad pactice, and you definitely need more than 10 of them\n",
        "* the second of 10x10 convolution gets 8x6x6 image as input, so it's technically unable to perform such convolution.\n",
        "* Softmax nonlinearity effectively makes only 1 or a few neurons from the entire layer to \"fire\", rendering 512-neuron layer almost useless. Softmax at the output layer is okay though\n",
        "* Dropout after probability prediciton is just lame. A few random classes get probability of 0, so your probabilities no longer sum to 1 and crossentropy goes -inf."
      ]
    },
    {
      "cell_type": "code",
      "metadata": {
        "id": "YFrgM2KZvwsj"
      },
      "source": [
        ""
      ],
      "execution_count": null,
      "outputs": []
    },
    {
      "cell_type": "markdown",
      "metadata": {
        "id": "3rCHBgXIvwsj"
      },
      "source": [
        "In this exercise you have to train a new Convolutional Neural Network from scratch for the classification of images.\n",
        "\n",
        "1. For this we will use the Keras library.\n",
        "2. The aim is to achieve 99% accuracy (on validation/test set) the MNIST dataset http://yann.lecun.com/exdb/mnist/.\n",
        "3. We have provided a basic Keras implementation of a CNN.\n",
        "4. You are allowed to do whatever you want (except copy pasting) with the network as long as it is explained in your report.\n",
        "5. Feel free to change the architecture of the network as well as parameters (e.g. learning rate, kernel sizes, ...).\n",
        "6. You can try to guess parameters manually of you want, just make sure that it performs better than 99% on the validation set.\n",
        "7. Sketch the final network architecture in your report.\n",
        "8. Make sure you train the network on the GPU, otherwise it will be too slow.\n",
        "9. Explain the plots: learning curve, accuracy wrt epoch."
      ]
    },
    {
      "cell_type": "code",
      "metadata": {
        "colab": {
          "base_uri": "https://localhost:8080/"
        },
        "id": "xa0-dlStvwsk",
        "outputId": "501aebca-ec5f-462e-f9de-594c25792583"
      },
      "source": [
        "(X_train,Y),(X_test,y) = keras.datasets.mnist.load_data()"
      ],
      "execution_count": 3,
      "outputs": [
        {
          "output_type": "stream",
          "text": [
            "Downloading data from https://storage.googleapis.com/tensorflow/tf-keras-datasets/mnist.npz\n",
            "11493376/11490434 [==============================] - 0s 0us/step\n"
          ],
          "name": "stdout"
        }
      ]
    },
    {
      "cell_type": "code",
      "metadata": {
        "id": "7rpCxO77vwsk"
      },
      "source": [
        "X_train, X_test = X_train.reshape(60000,28,28,1) / 255, X_test.reshape(10000,28,28,1) / 255"
      ],
      "execution_count": 4,
      "outputs": []
    },
    {
      "cell_type": "code",
      "metadata": {
        "colab": {
          "base_uri": "https://localhost:8080/"
        },
        "id": "sbKJ4hiFvwsl",
        "outputId": "4471dee0-1840-4d7c-ad4e-1fe5c6e04406"
      },
      "source": [
        "X_test.shape"
      ],
      "execution_count": 5,
      "outputs": [
        {
          "output_type": "execute_result",
          "data": {
            "text/plain": [
              "(10000, 28, 28, 1)"
            ]
          },
          "metadata": {
            "tags": []
          },
          "execution_count": 5
        }
      ]
    },
    {
      "cell_type": "code",
      "metadata": {
        "id": "MwPSlEf6vwsm"
      },
      "source": [
        "net = keras.models.Sequential()\n",
        "net.add(L.Input([28,28,1]))\n",
        "\n",
        "net.add(L.Conv2D(32,(3,3),activation = 'relu'))\n",
        "net.add(L.Conv2D(64,(3,3), activation = 'relu'))\n",
        "net.add(L.Conv2D(128,(3,3), activation = 'relu'))\n",
        "\n",
        "net.add(L.MaxPool2D())\n",
        "\n",
        "net.add(L.Conv2D(256,(3,3),activation = 'relu'))\n",
        "net.add(L.Conv2D(512,(3,3), activation = 'relu'))\n",
        "net.add(L.Conv2D(1024,(3,3), activation = 'relu'))\n",
        "\n",
        "net.add(L.GlobalMaxPool2D())\n",
        "\n",
        "net.add(L.Dense(512))\n",
        "net.add(L.Dropout(0.3))\n",
        "net.add(L.Activation('elu'))\n",
        "\n",
        "net.add(L.Dense(256))\n",
        "net.add(L.Dropout(0.2))\n",
        "net.add(L.Activation('relu'))\n",
        "\n",
        "net.add(L.Dense(100))\n",
        "net.add(L.Dropout(0.2))\n",
        "net.add(L.Activation('relu'))\n",
        "\n",
        "net.add(L.Dense(10))\n",
        "\n",
        "net.add(L.Activation('softmax'))"
      ],
      "execution_count": 6,
      "outputs": []
    },
    {
      "cell_type": "code",
      "metadata": {
        "colab": {
          "base_uri": "https://localhost:8080/"
        },
        "id": "4Z_0K78vvwsm",
        "outputId": "5eabc5fa-c547-485b-a833-0f8deb26808e"
      },
      "source": [
        "net.summary()"
      ],
      "execution_count": 7,
      "outputs": [
        {
          "output_type": "stream",
          "text": [
            "Model: \"sequential_1\"\n",
            "_________________________________________________________________\n",
            "Layer (type)                 Output Shape              Param #   \n",
            "=================================================================\n",
            "conv2d_5 (Conv2D)            (None, 26, 26, 32)        320       \n",
            "_________________________________________________________________\n",
            "conv2d_6 (Conv2D)            (None, 24, 24, 64)        18496     \n",
            "_________________________________________________________________\n",
            "conv2d_7 (Conv2D)            (None, 22, 22, 128)       73856     \n",
            "_________________________________________________________________\n",
            "max_pooling2d_2 (MaxPooling2 (None, 11, 11, 128)       0         \n",
            "_________________________________________________________________\n",
            "conv2d_8 (Conv2D)            (None, 9, 9, 256)         295168    \n",
            "_________________________________________________________________\n",
            "conv2d_9 (Conv2D)            (None, 7, 7, 512)         1180160   \n",
            "_________________________________________________________________\n",
            "conv2d_10 (Conv2D)           (None, 5, 5, 1024)        4719616   \n",
            "_________________________________________________________________\n",
            "global_max_pooling2d (Global (None, 1024)              0         \n",
            "_________________________________________________________________\n",
            "dense_3 (Dense)              (None, 512)               524800    \n",
            "_________________________________________________________________\n",
            "dropout_2 (Dropout)          (None, 512)               0         \n",
            "_________________________________________________________________\n",
            "activation_8 (Activation)    (None, 512)               0         \n",
            "_________________________________________________________________\n",
            "dense_4 (Dense)              (None, 256)               131328    \n",
            "_________________________________________________________________\n",
            "dropout_3 (Dropout)          (None, 256)               0         \n",
            "_________________________________________________________________\n",
            "activation_9 (Activation)    (None, 256)               0         \n",
            "_________________________________________________________________\n",
            "dense_5 (Dense)              (None, 100)               25700     \n",
            "_________________________________________________________________\n",
            "dropout_4 (Dropout)          (None, 100)               0         \n",
            "_________________________________________________________________\n",
            "activation_10 (Activation)   (None, 100)               0         \n",
            "_________________________________________________________________\n",
            "dense_6 (Dense)              (None, 10)                1010      \n",
            "_________________________________________________________________\n",
            "activation_11 (Activation)   (None, 10)                0         \n",
            "=================================================================\n",
            "Total params: 6,970,454\n",
            "Trainable params: 6,970,454\n",
            "Non-trainable params: 0\n",
            "_________________________________________________________________\n"
          ],
          "name": "stdout"
        }
      ]
    },
    {
      "cell_type": "code",
      "metadata": {
        "id": "sgvWEgOdvwsn"
      },
      "source": [
        "optimizer = keras.optimizers.Adam(learning_rate= 0.0005)\n",
        "net.compile(optimizer= optimizer, metrics=['accuracy'], loss = 'sparse_categorical_crossentropy')"
      ],
      "execution_count": 8,
      "outputs": []
    },
    {
      "cell_type": "code",
      "metadata": {
        "colab": {
          "base_uri": "https://localhost:8080/"
        },
        "id": "WDqqMyY-vwsn",
        "outputId": "4200f245-6ebe-47bd-d84a-829e8545e3a4"
      },
      "source": [
        "history = net.fit(X_train,Y, epochs= 5, shuffle=True, validation_data= (X_test,y), batch_size=50)"
      ],
      "execution_count": 9,
      "outputs": [
        {
          "output_type": "stream",
          "text": [
            "Epoch 1/5\n",
            "1200/1200 [==============================] - 62s 24ms/step - loss: 0.5278 - accuracy: 0.8190 - val_loss: 0.0528 - val_accuracy: 0.9860\n",
            "Epoch 2/5\n",
            "1200/1200 [==============================] - 29s 24ms/step - loss: 0.0581 - accuracy: 0.9841 - val_loss: 0.0656 - val_accuracy: 0.9819\n",
            "Epoch 3/5\n",
            "1200/1200 [==============================] - 30s 25ms/step - loss: 0.0415 - accuracy: 0.9886 - val_loss: 0.0330 - val_accuracy: 0.9917\n",
            "Epoch 4/5\n",
            "1200/1200 [==============================] - 29s 25ms/step - loss: 0.0343 - accuracy: 0.9899 - val_loss: 0.0345 - val_accuracy: 0.9913\n",
            "Epoch 5/5\n",
            "1200/1200 [==============================] - 29s 24ms/step - loss: 0.0280 - accuracy: 0.9926 - val_loss: 0.0312 - val_accuracy: 0.9916\n"
          ],
          "name": "stdout"
        }
      ]
    },
    {
      "cell_type": "code",
      "metadata": {
        "colab": {
          "base_uri": "https://localhost:8080/",
          "height": 279
        },
        "id": "3GKCP1jRvwsn",
        "outputId": "b1de445e-8ccd-4e0e-d6db-f20a8dd103f6"
      },
      "source": [
        "import matplotlib.pyplot as plt\n",
        "plt.plot(history.history['loss'],label = 'train_loss')\n",
        "plt.plot(history.history['val_loss'], label = 'val_loss')\n",
        "plt.xlabel('Epochs')\n",
        "plt.ylabel('loss')\n",
        "plt.legend()\n",
        "plt.show()"
      ],
      "execution_count": 10,
      "outputs": [
        {
          "output_type": "display_data",
          "data": {
            "image/png": "[encoded data removed]",
            "text/plain": [
              "<Figure size 432x288 with 1 Axes>"
            ]
          },
          "metadata": {
            "tags": [],
            "needs_background": "light"
          }
        }
      ]
    },
    {
      "cell_type": "code",
      "metadata": {
        "colab": {
          "base_uri": "https://localhost:8080/",
          "height": 279
        },
        "id": "luR3Gum9vwso",
        "outputId": "4be8b389-415a-48d6-b8a5-f9af30f70d40"
      },
      "source": [
        "plt.plot(history.history['accuracy'], label = 'train_acc')\n",
        "plt.plot(history.history['val_accuracy'], label = 'val_acc')\n",
        "plt.xlabel('Epochs')\n",
        "plt.ylabel('Score')\n",
        "plt.legend()\n",
        "plt.show()"
      ],
      "execution_count": 11,
      "outputs": [
        {
          "output_type": "display_data",
          "data": {
            "image/png": "[encoded data removed]",
            "text/plain": [
              "<Figure size 432x288 with 1 Axes>"
            ]
          },
          "metadata": {
            "tags": [],
            "needs_background": "light"
          }
        }
      ]
    }
  ]
}